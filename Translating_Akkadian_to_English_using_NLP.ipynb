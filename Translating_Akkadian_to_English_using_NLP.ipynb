{
  "cells": [
    {
      "cell_type": "markdown",
      "source": [
        "**Welcome to the notebook of \"Translataing Akkadian to English using NLP\"!**\n",
        "\n",
        "Please follow the instructions in the following sections by order to get your Akkadian input translated into English."
      ],
      "metadata": {
        "id": "V4cLWFDrwKTk"
      }
    },
    {
      "cell_type": "markdown",
      "source": [
        "# New Section"
      ],
      "metadata": {
        "id": "HJ63zVtC0crO"
      }
    },
    {
      "cell_type": "code",
      "execution_count": null,
      "metadata": {
        "colab": {
          "base_uri": "https://localhost:8080/"
        },
        "id": "iHYA9med86SZ",
        "outputId": "8cf5a1b8-09fc-42bc-fc9c-9f132603fe0d"
      },
      "outputs": [
        {
          "output_type": "stream",
          "name": "stdout",
          "text": [
            "Cloning into 'Akkademia'...\n",
            "remote: Enumerating objects: 10658, done.\u001b[K\n",
            "remote: Counting objects: 100% (152/152), done.\u001b[K\n",
            "remote: Compressing objects: 100% (59/59), done.\u001b[K\n",
            "remote: Total 10658 (delta 99), reused 140 (delta 91), pack-reused 10506\u001b[K\n",
            "Receiving objects: 100% (10658/10658), 3.28 GiB | 30.08 MiB/s, done.\n",
            "Resolving deltas: 100% (9870/9870), done.\n",
            "Updating files: 100% (7380/7380), done.\n",
            "Looking in indexes: https://pypi.org/simple, https://us-python.pkg.dev/colab-wheels/public/simple/\n",
            "Collecting sentencepiece\n",
            "  Downloading sentencepiece-0.1.99-cp310-cp310-manylinux_2_17_x86_64.manylinux2014_x86_64.whl (1.3 MB)\n",
            "\u001b[2K     \u001b[90m━━━━━━━━━━━━━━━━━━━━━━━━━━━━━━━━━━━━━━━━\u001b[0m \u001b[32m1.3/1.3 MB\u001b[0m \u001b[31m50.0 MB/s\u001b[0m eta \u001b[36m0:00:00\u001b[0m\n",
            "\u001b[?25hInstalling collected packages: sentencepiece\n",
            "Successfully installed sentencepiece-0.1.99\n",
            "Cloning into 'fairseq'...\n",
            "remote: Enumerating objects: 34627, done.\u001b[K\n",
            "remote: Counting objects: 100% (84/84), done.\u001b[K\n",
            "remote: Compressing objects: 100% (63/63), done.\u001b[K\n",
            "remote: Total 34627 (delta 24), reused 59 (delta 18), pack-reused 34543\u001b[K\n",
            "Receiving objects: 100% (34627/34627), 24.14 MiB | 26.15 MiB/s, done.\n",
            "Resolving deltas: 100% (25125/25125), done.\n",
            "Looking in indexes: https://pypi.org/simple, https://us-python.pkg.dev/colab-wheels/public/simple/\n",
            "Processing /content/fairseq\n",
            "  Installing build dependencies ... \u001b[?25l\u001b[?25hdone\n",
            "  Getting requirements to build wheel ... \u001b[?25l\u001b[?25hdone\n",
            "  Preparing metadata (pyproject.toml) ... \u001b[?25l\u001b[?25hdone\n",
            "Requirement already satisfied: cffi in /usr/local/lib/python3.10/dist-packages (from fairseq==0.12.2) (1.15.1)\n",
            "Requirement already satisfied: cython in /usr/local/lib/python3.10/dist-packages (from fairseq==0.12.2) (0.29.34)\n",
            "Collecting hydra-core<1.1,>=1.0.7 (from fairseq==0.12.2)\n",
            "  Downloading hydra_core-1.0.7-py3-none-any.whl (123 kB)\n",
            "\u001b[2K     \u001b[90m━━━━━━━━━━━━━━━━━━━━━━━━━━━━━━━━━━━━━━\u001b[0m \u001b[32m123.8/123.8 kB\u001b[0m \u001b[31m10.1 MB/s\u001b[0m eta \u001b[36m0:00:00\u001b[0m\n",
            "\u001b[?25hCollecting omegaconf<2.1 (from fairseq==0.12.2)\n",
            "  Downloading omegaconf-2.0.6-py3-none-any.whl (36 kB)\n",
            "Requirement already satisfied: numpy>=1.21.3 in /usr/local/lib/python3.10/dist-packages (from fairseq==0.12.2) (1.22.4)\n",
            "Requirement already satisfied: regex in /usr/local/lib/python3.10/dist-packages (from fairseq==0.12.2) (2022.10.31)\n",
            "Collecting sacrebleu>=1.4.12 (from fairseq==0.12.2)\n",
            "  Downloading sacrebleu-2.3.1-py3-none-any.whl (118 kB)\n",
            "\u001b[2K     \u001b[90m━━━━━━━━━━━━━━━━━━━━━━━━━━━━━━━━━━━━━━\u001b[0m \u001b[32m118.9/118.9 kB\u001b[0m \u001b[31m12.3 MB/s\u001b[0m eta \u001b[36m0:00:00\u001b[0m\n",
            "\u001b[?25hRequirement already satisfied: torch>=1.13 in /usr/local/lib/python3.10/dist-packages (from fairseq==0.12.2) (2.0.1+cu118)\n",
            "Requirement already satisfied: tqdm in /usr/local/lib/python3.10/dist-packages (from fairseq==0.12.2) (4.65.0)\n",
            "Collecting bitarray (from fairseq==0.12.2)\n",
            "  Downloading bitarray-2.7.3-cp310-cp310-manylinux_2_17_x86_64.manylinux2014_x86_64.whl (272 kB)\n",
            "\u001b[2K     \u001b[90m━━━━━━━━━━━━━━━━━━━━━━━━━━━━━━━━━━━━━━\u001b[0m \u001b[32m272.7/272.7 kB\u001b[0m \u001b[31m22.7 MB/s\u001b[0m eta \u001b[36m0:00:00\u001b[0m\n",
            "\u001b[?25hRequirement already satisfied: torchaudio>=0.8.0 in /usr/local/lib/python3.10/dist-packages (from fairseq==0.12.2) (2.0.2+cu118)\n",
            "Requirement already satisfied: scikit-learn in /usr/local/lib/python3.10/dist-packages (from fairseq==0.12.2) (1.2.2)\n",
            "Requirement already satisfied: packaging in /usr/local/lib/python3.10/dist-packages (from fairseq==0.12.2) (23.1)\n",
            "Collecting antlr4-python3-runtime==4.8 (from hydra-core<1.1,>=1.0.7->fairseq==0.12.2)\n",
            "  Downloading antlr4-python3-runtime-4.8.tar.gz (112 kB)\n",
            "\u001b[2K     \u001b[90m━━━━━━━━━━━━━━━━━━━━━━━━━━━━━━━━━━━━━━\u001b[0m \u001b[32m112.4/112.4 kB\u001b[0m \u001b[31m13.3 MB/s\u001b[0m eta \u001b[36m0:00:00\u001b[0m\n",
            "\u001b[?25h  Preparing metadata (setup.py) ... \u001b[?25l\u001b[?25hdone\n",
            "Requirement already satisfied: PyYAML>=5.1.* in /usr/local/lib/python3.10/dist-packages (from omegaconf<2.1->fairseq==0.12.2) (6.0)\n",
            "Requirement already satisfied: typing-extensions in /usr/local/lib/python3.10/dist-packages (from omegaconf<2.1->fairseq==0.12.2) (4.5.0)\n",
            "Collecting portalocker (from sacrebleu>=1.4.12->fairseq==0.12.2)\n",
            "  Downloading portalocker-2.7.0-py2.py3-none-any.whl (15 kB)\n",
            "Requirement already satisfied: tabulate>=0.8.9 in /usr/local/lib/python3.10/dist-packages (from sacrebleu>=1.4.12->fairseq==0.12.2) (0.8.10)\n",
            "Collecting colorama (from sacrebleu>=1.4.12->fairseq==0.12.2)\n",
            "  Downloading colorama-0.4.6-py2.py3-none-any.whl (25 kB)\n",
            "Requirement already satisfied: lxml in /usr/local/lib/python3.10/dist-packages (from sacrebleu>=1.4.12->fairseq==0.12.2) (4.9.2)\n",
            "Requirement already satisfied: filelock in /usr/local/lib/python3.10/dist-packages (from torch>=1.13->fairseq==0.12.2) (3.12.0)\n",
            "Requirement already satisfied: sympy in /usr/local/lib/python3.10/dist-packages (from torch>=1.13->fairseq==0.12.2) (1.11.1)\n",
            "Requirement already satisfied: networkx in /usr/local/lib/python3.10/dist-packages (from torch>=1.13->fairseq==0.12.2) (3.1)\n",
            "Requirement already satisfied: jinja2 in /usr/local/lib/python3.10/dist-packages (from torch>=1.13->fairseq==0.12.2) (3.1.2)\n",
            "Requirement already satisfied: triton==2.0.0 in /usr/local/lib/python3.10/dist-packages (from torch>=1.13->fairseq==0.12.2) (2.0.0)\n",
            "Requirement already satisfied: cmake in /usr/local/lib/python3.10/dist-packages (from triton==2.0.0->torch>=1.13->fairseq==0.12.2) (3.25.2)\n",
            "Requirement already satisfied: lit in /usr/local/lib/python3.10/dist-packages (from triton==2.0.0->torch>=1.13->fairseq==0.12.2) (16.0.5)\n",
            "Requirement already satisfied: pycparser in /usr/local/lib/python3.10/dist-packages (from cffi->fairseq==0.12.2) (2.21)\n",
            "Requirement already satisfied: scipy>=1.3.2 in /usr/local/lib/python3.10/dist-packages (from scikit-learn->fairseq==0.12.2) (1.10.1)\n",
            "Requirement already satisfied: joblib>=1.1.1 in /usr/local/lib/python3.10/dist-packages (from scikit-learn->fairseq==0.12.2) (1.2.0)\n",
            "Requirement already satisfied: threadpoolctl>=2.0.0 in /usr/local/lib/python3.10/dist-packages (from scikit-learn->fairseq==0.12.2) (3.1.0)\n",
            "Requirement already satisfied: MarkupSafe>=2.0 in /usr/local/lib/python3.10/dist-packages (from jinja2->torch>=1.13->fairseq==0.12.2) (2.1.2)\n",
            "Requirement already satisfied: mpmath>=0.19 in /usr/local/lib/python3.10/dist-packages (from sympy->torch>=1.13->fairseq==0.12.2) (1.3.0)\n",
            "Building wheels for collected packages: fairseq, antlr4-python3-runtime\n",
            "  Building wheel for fairseq (pyproject.toml) ... \u001b[?25l\u001b[?25hdone\n",
            "  Created wheel for fairseq: filename=fairseq-0.12.2-cp310-cp310-linux_x86_64.whl size=21515150 sha256=c87e5283ecf246d5c20d2de03c60a5de20a85b975c9b87be0761e7a901578e3c\n",
            "  Stored in directory: /tmp/pip-ephem-wheel-cache-eouwa6q1/wheels/c6/d7/db/bc419b1daa8266aa8de2a7c4d29f62dbfa814e8701fe4695a2\n",
            "  Building wheel for antlr4-python3-runtime (setup.py) ... \u001b[?25l\u001b[?25hdone\n",
            "  Created wheel for antlr4-python3-runtime: filename=antlr4_python3_runtime-4.8-py3-none-any.whl size=141210 sha256=637bd2ba5bab4c44d61b29e8bb2d10020c1fe5ecc70625b056bb1217d0189f88\n",
            "  Stored in directory: /root/.cache/pip/wheels/a7/20/bd/e1477d664f22d99989fd28ee1a43d6633dddb5cb9e801350d5\n",
            "Successfully built fairseq antlr4-python3-runtime\n",
            "Installing collected packages: bitarray, antlr4-python3-runtime, portalocker, omegaconf, colorama, sacrebleu, hydra-core, fairseq\n",
            "Successfully installed antlr4-python3-runtime-4.8 bitarray-2.7.3 colorama-0.4.6 fairseq-0.12.2 hydra-core-1.0.7 omegaconf-2.0.6 portalocker-2.7.0 sacrebleu-2.3.1\n"
          ]
        }
      ],
      "source": [
        "# Please run this section once to prepare your environment to translate Akkadian to English.\n",
        "\n",
        "!git clone https://github.com/gaigutherz/Akkademia.git\n",
        "!cd Akkademia/trans_result.LR_0.1.MAX_TOKENS_4000 && cat checkpoint_best.pt.* > checkpoint_best.pt\n",
        "!cd Akkademia/not_divided_by_three_dots_result.LR_0.1.MAX_TOKENS_4000 && cat checkpoint_best.pt.* > checkpoint_best.pt\n",
        "!pip install sentencepiece\n",
        "!git clone https://github.com/pytorch/fairseq\n",
        "!cd fairseq && pip install ./\n",
        "!chmod +x fairseq/fairseq_cli/interactive.py\n",
        "!sed -i 's/#!\\/usr\\/bin\\/env python3 -u/#!\\/usr\\/bin\\/env python3/g' fairseq/fairseq_cli/interactive.py"
      ]
    },
    {
      "cell_type": "code",
      "source": [
        "# In this section you can translate one transliteration sentence to English.\n",
        "# Please try to run it first with the sample input, and then you can run it again with input of your own.\n",
        "# Make sure not to use broken\n",
        "# Sample input is: {m}-aš-šur—BAD₃—PAB\n",
        "!cd Akkademia && sudo python akkadian/translate_transliteration.py"
      ],
      "metadata": {
        "colab": {
          "base_uri": "https://localhost:8080/"
        },
        "id": "mhiSBnsOZ68f",
        "outputId": "b58de1c3-c667-4945-a994-ccc4f3b77671"
      },
      "execution_count": null,
      "outputs": [
        {
          "output_type": "stream",
          "name": "stdout",
          "text": [
            "Please enter a transliteration sentence for translation\n",
            "{d}-AG-NIG2.GUB-PAB LUGAL ba-bi-lu{KI} za-nin e2-sag-il3 U3 e2-zi-da ap-lu SAG.KAL ša {d}AG-ap-lu-URU3 LUGAL ba-bi-lu{KI} a-na-ku e2-babbar-ra E2 {d}-UTU ša2 Larsa{KI} ki-ma la-bi-rim-ma a-na {d}-UTU EN-ia e-pu2-uš\n",
            "Nabonidus, king of Babylon, the one who provides for Esagil and Ezida, the one who provides for Esagil and Ezida, the one who pleases the heart of the gods Nabû, Šamaš, (and) Šamaš, my lord:\n"
          ]
        }
      ]
    },
    {
      "cell_type": "code",
      "source": [
        "# In this section you can translate one cuneiform sentence to English.\n",
        "# Please try to run it first with the sample input, and then you can run it again with input of your own.\n",
        "\n",
        "# Sample input is:  ▁ . . . 𒉻 𒇻 𒇻\n",
        "!cd Akkademia && sudo python akkadian/translate_cuneiform.py"
      ],
      "metadata": {
        "colab": {
          "base_uri": "https://localhost:8080/"
        },
        "id": "l8f3sNo8gmo8",
        "outputId": "def59627-a3be-4a13-c13c-a96db1c26b9a"
      },
      "execution_count": null,
      "outputs": [
        {
          "output_type": "stream",
          "name": "stdout",
          "text": [
            "Please enter a cuneiform sentence for translation\n",
            "𒀠𒋫𒀊𒊏𒊍\n",
            "I have written ...\n"
          ]
        }
      ]
    },
    {
      "cell_type": "code",
      "execution_count": null,
      "metadata": {
        "colab": {
          "base_uri": "https://localhost:8080/"
        },
        "id": "2UNiHxBe6p8l",
        "outputId": "c7295ca6-0f03-4103-a6ae-a8efb4c8d435"
      },
      "outputs": [
        {
          "output_type": "stream",
          "name": "stdout",
          "text": [
            "Please enter the name of the transliteration file for translation\n",
            "Traceback (most recent call last):\n",
            "  File \"akkadian/translate_from_transliteration.py\", line 169, in <module>\n",
            "    transliteration_file = input(\"Please enter the name of the transliteration file for translation\\n\")\n",
            "KeyboardInterrupt\n"
          ]
        }
      ],
      "source": [
        "# In this section you can translate a transliteration file to English.\n",
        "# Please try to run it first with the sample file, and then you can run it again with files of your own.\n",
        "# The file you use should be in the directory \"Akkademia\".\n",
        "# Please be patient as tanslation of long files could take a few minutes.\n",
        "\n",
        "# Sample file is: input.tr\n",
        "!cd Akkademia && sudo python akkadian/translate_from_transliteration.py"
      ]
    },
    {
      "cell_type": "markdown",
      "metadata": {
        "id": "6ykOM6N5j34z"
      },
      "source": []
    },
    {
      "cell_type": "code",
      "execution_count": null,
      "metadata": {
        "colab": {
          "base_uri": "https://localhost:8080/"
        },
        "id": "imNN1PLXiiua",
        "outputId": "012affa8-2922-4691-a3c0-b421ec422ca1"
      },
      "outputs": [
        {
          "output_type": "stream",
          "name": "stdout",
          "text": [
            "Please enter the name of the Akkadian file for translation\n",
            "input.ak\n",
            "S-0 ...𒉻𒇻𒇻\n",
            "D-0 ... to all the sheep!\n",
            "\n"
          ]
        }
      ],
      "source": [
        "# In this section you can translate a cuneiform file to English.\n",
        "# Please try to run it first with the sample file, and then you can run it again with files of your own.\n",
        "# The file you use should be in the directory \"Akkademia\".\n",
        "# Please be patient as tanslation of long files could take a few minutes.\n",
        "\n",
        "# Sample file is: input.ak\n",
        "!cd Akkademia && sudo python akkadian/translate_from_cuneiform.py"
      ]
    }
  ],
  "metadata": {
    "colab": {
      "provenance": [],
      "toc_visible": true
    },
    "kernelspec": {
      "display_name": "Python 3",
      "name": "python3"
    },
    "language_info": {
      "name": "python"
    }
  },
  "nbformat": 4,
  "nbformat_minor": 0
}